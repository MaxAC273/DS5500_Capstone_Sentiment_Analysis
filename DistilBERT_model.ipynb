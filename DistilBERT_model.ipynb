{
 "cells": [
  {
   "cell_type": "code",
   "execution_count": 25,
   "id": "ffc19606",
   "metadata": {},
   "outputs": [
    {
     "data": {
      "text/plain": [
       "'\\nThis file contains the code for creating and evaluating\\nthe BERT model for sentiment analysis.\\nThis file comes after the data_preprocessing file.\\n'"
      ]
     },
     "execution_count": 25,
     "metadata": {},
     "output_type": "execute_result"
    }
   ],
   "source": [
    "'''\n",
    "This file contains the code for creating and evaluating\n",
    "the BERT model for sentiment analysis.\n",
    "This file comes after the data_preprocessing file.\n",
    "'''"
   ]
  },
  {
   "cell_type": "code",
   "execution_count": 26,
   "id": "c83e21dc",
   "metadata": {},
   "outputs": [],
   "source": [
    "#pip install transformers torch"
   ]
  },
  {
   "cell_type": "code",
   "execution_count": 27,
   "id": "c447fcfc",
   "metadata": {},
   "outputs": [],
   "source": [
    "# import the cleaned data from data_preprocessing file\n",
    "import pandas as pd\n",
    "df = pd.read_pickle(\"dataframe.pkl\")\n"
   ]
  },
  {
   "cell_type": "code",
   "execution_count": null,
   "id": "94354258",
   "metadata": {},
   "outputs": [],
   "source": [
    "# Load the tokenizer and model\n",
    "\n",
    "#DistilBERT model\n",
    "from transformers import DistilBertTokenizer, DistilBertForSequenceClassification\n",
    "\n",
    "\n",
    "tokenizer = DistilBertTokenizer.from_pretrained('distilbert-base-uncased')\n",
    "model = DistilBertForSequenceClassification.from_pretrained('distilbert-base-uncased', num_labels=3)\n",
    "\n",
    "\n",
    "#BERT model\n",
    "# from transformers import BertTokenizer, BertForSequenceClassification\n",
    "\n",
    "\n",
    "#tokenizer = BertTokenizer.from_pretrained('bert-base-uncased')\n",
    "#model = BertForSequenceClassification.from_pretrained('bert-base-uncased', num_labels=3)"
   ]
  },
  {
   "cell_type": "code",
   "execution_count": null,
   "id": "95293a7a",
   "metadata": {},
   "outputs": [],
   "source": [
    "from transformers import pipeline\n",
    "\n",
    "# Initialize the pipeline for sentiment analysis\n",
    "\n",
    "#nlp = pipeline(\"sentiment-analysis\", model=model, tokenizer=tokenizer)\n"
   ]
  },
  {
   "cell_type": "code",
   "execution_count": null,
   "id": "bf01138d",
   "metadata": {},
   "outputs": [],
   "source": [
    "nlp = pipeline(\"sentiment-analysis\", model=\"j-hartmann/emotion-english-distilroberta-base\", return_all_scores=True)"
   ]
  },
  {
   "cell_type": "code",
   "execution_count": null,
   "id": "727a590d",
   "metadata": {},
   "outputs": [],
   "source": [
    "# Making predictions\n",
    "df['sentiment'] = df['cleaned_text'].apply(lambda x: nlp(x)[0]['label'])\n"
   ]
  },
  {
   "cell_type": "code",
   "execution_count": null,
   "id": "6cc79a3f",
   "metadata": {},
   "outputs": [],
   "source": [
    "import pickle\n",
    "df.to_pickle(\"dataframe_DistilBert.pkl\")"
   ]
  },
  {
   "cell_type": "code",
   "execution_count": null,
   "id": "f3a2e97a",
   "metadata": {},
   "outputs": [],
   "source": [
    "import pandas as pd\n",
    "df = pd.read_pickle(\"dataframe_DistilBert.pkl\")"
   ]
  },
  {
   "cell_type": "code",
   "execution_count": null,
   "id": "bbf9baca",
   "metadata": {},
   "outputs": [],
   "source": [
    "type(df['sentiment'][0])\n",
    "df"
   ]
  },
  {
   "cell_type": "code",
   "execution_count": null,
   "id": "d1b550f4",
   "metadata": {},
   "outputs": [],
   "source": [
    "df.drop(['preprocessed_text', 'text_with_emojis','text_with_slang', 'text_with_negations','sentiment_score' ], axis=1, inplace=True)"
   ]
  },
  {
   "cell_type": "code",
   "execution_count": null,
   "id": "d06f32ff",
   "metadata": {},
   "outputs": [],
   "source": [
    "df"
   ]
  },
  {
   "cell_type": "code",
   "execution_count": null,
   "id": "2613e549",
   "metadata": {},
   "outputs": [],
   "source": [
    "value_counts = df['sentiment'].value_counts()\n",
    "\n",
    "print(value_counts) # Label 0 is negative (pro-choice), Label 1 is neutral, Label 2 is Positive (anti-abortion)?"
   ]
  },
  {
   "cell_type": "code",
   "execution_count": null,
   "id": "64ea6f4b",
   "metadata": {},
   "outputs": [],
   "source": [
    "# grouping by Mode\n",
    "mode_sentiment = df.groupby('hashed_userid')['sentiment'].agg(lambda x: x.mode()[0])\n",
    "value_counts_mode = mode_sentiment.value_counts()\n",
    "print(value_counts_mode)"
   ]
  },
  {
   "cell_type": "code",
   "execution_count": null,
   "id": "0b23c4de",
   "metadata": {},
   "outputs": [],
   "source": []
  },
  {
   "cell_type": "code",
   "execution_count": null,
   "id": "7304a691",
   "metadata": {},
   "outputs": [],
   "source": [
    "# grouping by Mean\n",
    "label_mapping = {\n",
    "    'LABEL_0': 0,\n",
    "    'LABEL_1': 1,\n",
    "    'LABEL_2': 2\n",
    "}\n",
    "\n",
    "df['sentiment_int'] = df['sentiment'].replace(label_mapping)\n",
    "user_mean_sentiment = df.groupby('hashed_userid')['sentiment_int'].mean()\n",
    "\n",
    "value_counts_mean = user_mean_sentiment.value_counts()\n",
    "print(value_counts_mean)"
   ]
  },
  {
   "cell_type": "code",
   "execution_count": null,
   "id": "ff0a6162",
   "metadata": {},
   "outputs": [],
   "source": [
    "# Summary of Mean grouping\n",
    "\n",
    "import matplotlib.pyplot as plt\n",
    "\n",
    "# Plotting the distribution as a histogram\n",
    "plt.figure(figsize=(10, 4))\n",
    "plt.subplot(1, 2, 1)\n",
    "user_mean_sentiment.hist()\n",
    "plt.title('Histogram of User Mean Sentiment')\n",
    "plt.xlabel('Mean Sentiment')\n",
    "plt.ylabel('Frequency')\n",
    "\n",
    "# Plotting the distribution as a boxplot\n",
    "plt.subplot(1, 2, 2)\n",
    "user_mean_sentiment.plot.box()\n",
    "plt.title('Boxplot of User Mean Sentiment')\n",
    "plt.ylabel('Mean Sentiment')\n",
    "\n",
    "# Showing the plots\n",
    "plt.tight_layout()\n",
    "plt.show()\n",
    "\n",
    "# Printing summary statistics\n",
    "user_mean_sentiment.describe()"
   ]
  },
  {
   "cell_type": "code",
   "execution_count": null,
   "id": "5145cd9f",
   "metadata": {},
   "outputs": [],
   "source": [
    "filtered_df_2 = df[df['sentiment_int'] == 2]\n",
    "filtered_df_2.to_csv(\"tweet_data_score2.csv\")"
   ]
  },
  {
   "cell_type": "code",
   "execution_count": null,
   "id": "b3e24b48",
   "metadata": {},
   "outputs": [],
   "source": [
    "filtered_df_1 = df[df['sentiment_int'] == 1]\n",
    "filtered_df_1.to_csv(\"tweet_data_score1.csv\")"
   ]
  },
  {
   "cell_type": "code",
   "execution_count": null,
   "id": "905daa00",
   "metadata": {},
   "outputs": [],
   "source": [
    "filtered_df_0 = df[df['sentiment_int'] == 0]\n",
    "filtered_df_0.to_csv(\"tweet_data_score0.csv\")"
   ]
  },
  {
   "cell_type": "code",
   "execution_count": null,
   "id": "a06dd4e1",
   "metadata": {},
   "outputs": [],
   "source": []
  }
 ],
 "metadata": {
  "kernelspec": {
   "display_name": "Python 3 (ipykernel)",
   "language": "python",
   "name": "python3"
  },
  "language_info": {
   "codemirror_mode": {
    "name": "ipython",
    "version": 3
   },
   "file_extension": ".py",
   "mimetype": "text/x-python",
   "name": "python",
   "nbconvert_exporter": "python",
   "pygments_lexer": "ipython3",
   "version": "3.9.7"
  }
 },
 "nbformat": 4,
 "nbformat_minor": 5
}
