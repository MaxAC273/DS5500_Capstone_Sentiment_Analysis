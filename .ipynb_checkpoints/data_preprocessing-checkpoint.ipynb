{
 "cells": [
  {
   "cell_type": "code",
   "execution_count": 1,
   "id": "7ea0840f",
   "metadata": {},
   "outputs": [
    {
     "name": "stdout",
     "output_type": "stream",
     "text": [
      "   Unnamed: 0         hashed_userid masked_username         location  \\\n",
      "0      415371  19868647935216335990       *****ecot              NaN   \n",
      "1      415370  95273352056344375133       *****kh59  Terre Haute, IN   \n",
      "2      415369  42256911176251501556  *******eDuster         Chi-town   \n",
      "3      415368  98949018742144878760       *****ll42              NaN   \n",
      "4      415367  83242079331442835051  *******tresist              NaN   \n",
      "\n",
      "   following  followers  totaltweets usercreateddt              tweetid  \\\n",
      "0       1109        796       189199       9/16/09  1560823411047268352   \n",
      "1        854        298        16999      10/10/17  1560823347583361024   \n",
      "2        416       8852        11699       3/26/09  1560823151671488513   \n",
      "3        603        179        59766       3/14/14  1560822898780213249   \n",
      "4        257        758       272531       2/16/17  1560822761706094592   \n",
      "\n",
      "  tweetcreatedts  ...                                           hashtags  \\\n",
      "0        57:54.0  ...  [{'text': 'MyBodyMyChoice', 'indices': [200, 2...   \n",
      "1        57:39.0  ...  [{'text': 'mybodymychoice', 'indices': [55, 70...   \n",
      "2        56:52.0  ...  [{'text': 'OnThisDay', 'indices': [32, 42]}, {...   \n",
      "3        55:52.0  ...  [{'text': 'NY', 'indices': [24, 27]}, {'text':...   \n",
      "4        55:19.0  ...     [{'text': 'WomensRights', 'indices': [0, 13]}]   \n",
      "\n",
      "  language favorite_count is_retweet    original_tweet_id  \\\n",
      "0       en              0       True  1560766115776565248   \n",
      "1       en              0      False                    0   \n",
      "2       en              0       True  1560280488488718336   \n",
      "3       en              0       True  1560750229720563712   \n",
      "4       en              0       True  1560794896663203840   \n",
      "\n",
      "   in_reply_to_status_id  is_quote_status  quoted_status_id  extractedts  \\\n",
      "0                      0            False                 0      58:51.1   \n",
      "1    1560769551347900416            False                 0      58:51.1   \n",
      "2                      0            False                 0      58:51.1   \n",
      "3                      0            False                 0      58:51.1   \n",
      "4                      0            False                 0      58:51.1   \n",
      "\n",
      "                                        cleaned_text  \n",
      "0  breaking a michigan judge rules that prosecuto...  \n",
      "1  cbouzy filmystic yes we are not happy we are a...  \n",
      "2  the 19th amendment was ratified in 1920 granti...  \n",
      "3  aaronparnas patryanuc no to against every sing...  \n",
      "4  15 sandytxresister crystal4whales vtfishgirl1 ...  \n",
      "\n",
      "[5 rows x 22 columns]\n"
     ]
    }
   ],
   "source": [
    "import pandas as pd\n",
    "import numpy as np\n",
    "import re\n",
    "\n",
    "df = pd.read_csv('twitter_data.csv')\n",
    "\n",
    "# Function to clean the tweet text\n",
    "def clean_text(text):\n",
    "    text = text.lower()  # convert text to lowercase\n",
    "    text = re.sub(r'http\\S+|www\\S+|https\\S+', '', text, flags=re.MULTILINE)  # remove URLs\n",
    "    text = re.sub(r'\\@w+', '', text)  # remove mentions\n",
    "    text = re.sub(r'\\#\\w+', '', text)  # remove hashtags\n",
    "    text = re.sub(r'\\s+', ' ', text)  # replace multiple spaces with a single space\n",
    "    text = re.sub(r\"^\\s+|\\s+$\", \"\", text)  # remove spaces at the beginning and at the end of string\n",
    "    text = re.sub(r'[^\\w\\s]', '', text)  # remove punctuations\n",
    "    return text\n",
    "\n",
    "# Clean the tweets\n",
    "df['cleaned_text'] = df['text'].apply(clean_text)\n",
    "\n",
    "# Display the first few rows of the cleaned data\n",
    "print(df.head())\n"
   ]
  },
  {
   "cell_type": "code",
   "execution_count": 2,
   "id": "bf54b0f3",
   "metadata": {},
   "outputs": [
    {
     "name": "stdout",
     "output_type": "stream",
     "text": [
      "Index(['Unnamed: 0', 'hashed_userid', 'masked_username', 'location',\n",
      "       'following', 'followers', 'totaltweets', 'usercreateddt', 'tweetid',\n",
      "       'tweetcreatedts', 'retweetcount', 'text', 'hashtags', 'language',\n",
      "       'favorite_count', 'is_retweet', 'original_tweet_id',\n",
      "       'in_reply_to_status_id', 'is_quote_status', 'quoted_status_id',\n",
      "       'extractedts', 'cleaned_text'],\n",
      "      dtype='object')\n"
     ]
    }
   ],
   "source": []
  },
  {
   "cell_type": "code",
   "execution_count": null,
   "id": "ddf56b9e",
   "metadata": {},
   "outputs": [],
   "source": []
  }
 ],
 "metadata": {
  "kernelspec": {
   "display_name": "Python 3 (ipykernel)",
   "language": "python",
   "name": "python3"
  },
  "language_info": {
   "codemirror_mode": {
    "name": "ipython",
    "version": 3
   },
   "file_extension": ".py",
   "mimetype": "text/x-python",
   "name": "python",
   "nbconvert_exporter": "python",
   "pygments_lexer": "ipython3",
   "version": "3.9.7"
  }
 },
 "nbformat": 4,
 "nbformat_minor": 5
}
