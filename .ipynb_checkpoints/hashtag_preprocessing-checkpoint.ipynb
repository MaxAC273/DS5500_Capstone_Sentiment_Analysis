{
 "cells": [
  {
   "cell_type": "code",
   "execution_count": 2,
   "id": "ee80390e",
   "metadata": {},
   "outputs": [
    {
     "name": "stdout",
     "output_type": "stream",
     "text": [
      "cleaned_hashtags\n",
      "roevswade            101332\n",
      "roevwade              88379\n",
      "womensrights          79769\n",
      "abortion              53670\n",
      "scotus                28126\n",
      "                      ...  \n",
      "igtv                      1\n",
      "erikajwood                1\n",
      "accountabiliy             1\n",
      "afghanwomenstrong         1\n",
      "rkelly30yrs               1\n",
      "Name: count, Length: 44751, dtype: int64\n"
     ]
    }
   ],
   "source": [
    "import pandas as pd\n",
    "from ast import literal_eval\n",
    "\n",
    "df = pd.read_csv('twitter_data.csv')\n",
    "\n",
    "# Function to extract and clean hashtags\n",
    "def clean_hashtags(hashtag_string):\n",
    "    try:\n",
    "        hashtag_dicts = literal_eval(hashtag_string)\n",
    "        hashtags = [d['text'].lower() for d in hashtag_dicts]  # Convert to lowercase\n",
    "        hashtags = [h.translate(str.maketrans('', '', '!@#$%^&*()[]{};:,./<>?\\|`~-=_+')) for h in hashtags]  # Remove special chars\n",
    "        return hashtags\n",
    "    except:\n",
    "        return []  # In case of an error\n",
    "\n",
    "# Apply the function to the 'hashtags' column\n",
    "df['cleaned_hashtags'] = df['hashtags'].apply(clean_hashtags)\n",
    "\n",
    "# Explode the hashtags into separate rows\n",
    "hashtags_exploded = df['cleaned_hashtags'].explode()\n",
    "\n",
    "# Count the occurrences of each hashtag\n",
    "hashtag_counts = hashtags_exploded.value_counts()\n",
    "\n",
    "# Display the counts\n",
    "print(hashtag_counts)\n"
   ]
  },
  {
   "cell_type": "code",
   "execution_count": null,
   "id": "ff790de3",
   "metadata": {},
   "outputs": [],
   "source": []
  }
 ],
 "metadata": {
  "kernelspec": {
   "display_name": "Python 3 (ipykernel)",
   "language": "python",
   "name": "python3"
  },
  "language_info": {
   "codemirror_mode": {
    "name": "ipython",
    "version": 3
   },
   "file_extension": ".py",
   "mimetype": "text/x-python",
   "name": "python",
   "nbconvert_exporter": "python",
   "pygments_lexer": "ipython3",
   "version": "3.9.7"
  }
 },
 "nbformat": 4,
 "nbformat_minor": 5
}
